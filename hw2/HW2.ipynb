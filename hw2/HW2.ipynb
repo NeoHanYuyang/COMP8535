{
 "cells": [
  {
   "cell_type": "markdown",
   "metadata": {},
   "source": [
    "### Homework 2"
   ]
  },
  {
   "cell_type": "markdown",
   "metadata": {},
   "source": [
    "1. (a) Transition matrix P"
   ]
  },
  {
   "cell_type": "code",
   "execution_count": 145,
   "metadata": {},
   "outputs": [
    {
     "name": "stdout",
     "output_type": "stream",
     "text": [
      "[[0.         1.         0.         0.        ]\n",
      " [0.33333333 0.         0.33333333 0.33333333]\n",
      " [0.         0.         0.         1.        ]\n",
      " [1.         0.         0.         0.        ]]\n"
     ]
    }
   ],
   "source": [
    "import numpy as np\n",
    "\n",
    "P = np.array([[0,   1, 0,   0],\n",
    "              [1/3, 0, 1/3, 1/3],\n",
    "              [0,   0, 0,   1],\n",
    "              [1,   0, 0,   0]\n",
    "])\n",
    "\n",
    "print(P)"
   ]
  },
  {
   "cell_type": "markdown",
   "metadata": {},
   "source": [
    "(b) Google matrix G"
   ]
  },
  {
   "cell_type": "code",
   "execution_count": 146,
   "metadata": {},
   "outputs": [
    {
     "name": "stdout",
     "output_type": "stream",
     "text": [
      "[[0.         1.         0.         0.        ]\n",
      " [0.33333333 0.         0.33333333 0.33333333]\n",
      " [0.         0.         0.         1.        ]\n",
      " [1.         0.         0.         0.        ]]\n"
     ]
    }
   ],
   "source": [
    "S = np.zeros_like(P)\n",
    "\n",
    "N = [1, 3, 1, 1]\n",
    "n = 4\n",
    "\n",
    "row, col = P.shape\n",
    "\n",
    "for i in range(row):\n",
    "    for j in range(col):\n",
    "        if N[i] == 0:\n",
    "            S[i][j] = P[i][j] + 1/n\n",
    "        elif N[i] > 0:\n",
    "            S[i][j] = P[i][j]\n",
    "\n",
    "print(S) "
   ]
  },
  {
   "cell_type": "code",
   "execution_count": 147,
   "metadata": {},
   "outputs": [
    {
     "name": "stdout",
     "output_type": "stream",
     "text": [
      "4\n",
      "[[0.0375     0.8875     0.0375     0.0375    ]\n",
      " [0.32083333 0.0375     0.32083333 0.32083333]\n",
      " [0.0375     0.0375     0.0375     0.8875    ]\n",
      " [0.8875     0.0375     0.0375     0.0375    ]]\n"
     ]
    }
   ],
   "source": [
    "alpha = 0.85\n",
    "print(n)\n",
    "\n",
    "G = alpha * S + (1-alpha)/n\n",
    "\n",
    "print(G)"
   ]
  },
  {
   "cell_type": "markdown",
   "metadata": {},
   "source": [
    "(c) Use G matrix and $\\alpha$ above, rank the webpages with fullrank algorithm. Use the power method to approximate the staionary distribution $\\pi_\\infty$ with 5 iterations from $ \\pi_0 = [0.25, 0.25, 0.25, 0.25]^T $"
   ]
  },
  {
   "cell_type": "code",
   "execution_count": 148,
   "metadata": {},
   "outputs": [
    {
     "name": "stdout",
     "output_type": "stream",
     "text": [
      "[array([[0.25],\n",
      "       [0.25],\n",
      "       [0.25],\n",
      "       [0.25]]), array([[0.32083333],\n",
      "       [0.25      ],\n",
      "       [0.10833333],\n",
      "       [0.32083333]]), array([[0.38104167],\n",
      "       [0.31020833],\n",
      "       [0.10833333],\n",
      "       [0.20041667]]), array([[0.29574653],\n",
      "       [0.36138542],\n",
      "       [0.12539236],\n",
      "       [0.21747569]]), array([[0.32474687],\n",
      "       [0.28888455],\n",
      "       [0.13989253],\n",
      "       [0.24647604]]), array([[0.32885526],\n",
      "       [0.31353484],\n",
      "       [0.11935062],\n",
      "       [0.23825928]])]\n"
     ]
    }
   ],
   "source": [
    "def power(pi_kminus1):\n",
    "    pi_k = G.T @ pi_kminus1\n",
    "    return pi_k\n",
    "\n",
    "# \\pi_0\n",
    "pi_kminus1 = np.array([\n",
    "                [0.25], [0.25], [0.25], [0.25]])\n",
    "# \\pi_1\n",
    "pi_k = power(pi_kminus1)\n",
    "\n",
    "pi = []\n",
    "pi.append(pi_kminus1)\n",
    "pi.append(pi_k)\n",
    "\n",
    "\n",
    "for i in range(4):\n",
    "    # print(i)\n",
    "    pi_kminus1 = pi_k\n",
    "    pi_k = power(pi_kminus1)\n",
    "    pi.append(pi_k)\n",
    "\n",
    "print(pi)\n"
   ]
  },
  {
   "cell_type": "code",
   "execution_count": 149,
   "metadata": {},
   "outputs": [
    {
     "name": "stdout",
     "output_type": "stream",
     "text": [
      "[[0.32885526]\n",
      " [0.31353484]\n",
      " [0.11935062]\n",
      " [0.23825928]]\n"
     ]
    }
   ],
   "source": [
    "# \\pi_0\n",
    "pi_0 = np.array([\n",
    "                [0.25], [0.25], [0.25], [0.25]])\n",
    "# \\pi_1\n",
    "pi_1 = power(pi_0)\n",
    "\n",
    "# \\pi_2\n",
    "pi_2 = power(pi_1)\n",
    "\n",
    "# \\pi_3\n",
    "pi_3 = power(pi_2)\n",
    "\n",
    "# \\pi_4\n",
    "pi_4 = power(pi_3)\n",
    "\n",
    "# \\pi_5\n",
    "pi_5 = power(pi_4)\n",
    "\n",
    "\n",
    "print(pi_5)"
   ]
  },
  {
   "cell_type": "markdown",
   "metadata": {},
   "source": [
    "2. (a) svd"
   ]
  },
  {
   "cell_type": "code",
   "execution_count": 150,
   "metadata": {},
   "outputs": [
    {
     "name": "stdout",
     "output_type": "stream",
     "text": [
      "U:\n",
      " [[-0.70710678 -0.70710678]\n",
      " [-0.70710678  0.70710678]]\n",
      "S:\n",
      " [[5. 0.]\n",
      " [0. 3.]]\n",
      "V:\n",
      " [[-7.07106781e-01 -2.35702260e-01 -6.66666667e-01]\n",
      " [-7.07106781e-01  2.35702260e-01  6.66666667e-01]\n",
      " [-6.47932334e-17 -9.42809042e-01  3.33333333e-01]]\n"
     ]
    }
   ],
   "source": [
    "X = np.array([ [3, 2, 2],\n",
    "               [2, 3, -2] ])\n",
    "\n",
    "U, s, Vt = np.linalg.svd(X)\n",
    "\n",
    "print('U:\\n', U)\n",
    "\n",
    "print('S:\\n', np.diag(s))\n",
    "\n",
    "print('V:\\n', Vt.T)"
   ]
  },
  {
   "cell_type": "markdown",
   "metadata": {},
   "source": [
    "(b) What is the best rank-1 approximation of X in the sense of minimising\n",
    "the approximation error under the Frobenius norm?\n"
   ]
  },
  {
   "cell_type": "code",
   "execution_count": 151,
   "metadata": {},
   "outputs": [
    {
     "name": "stdout",
     "output_type": "stream",
     "text": [
      "[[2.50000000e+00 2.50000000e+00 2.29078674e-16]\n",
      " [2.50000000e+00 2.50000000e+00 2.29078674e-16]]\n"
     ]
    }
   ],
   "source": [
    "import numpy as np\n",
    "\n",
    "X = np.array([[3, 2, 2], [2, 3, -2]])\n",
    "U, s, Vt = np.linalg.svd(X, full_matrices = False)\n",
    "\n",
    "# construct diagonal matrix of singular values\n",
    "rS = np.ceil(s[0])\n",
    "# print(rS)\n",
    "\n",
    "# compute rank-1 approximation\n",
    "# first column of U\n",
    "U1 = U[:,:1]\n",
    "#  first row of V\n",
    "Vt1 = Vt[:1]\n",
    "\n",
    "X1 = rS * np.outer(U1, Vt1)\n",
    "print(X1)\n"
   ]
  },
  {
   "cell_type": "markdown",
   "metadata": {},
   "source": [
    "3. Principal Component Analysis"
   ]
  },
  {
   "cell_type": "code",
   "execution_count": 152,
   "metadata": {},
   "outputs": [
    {
     "data": {
      "image/png": "[encoded data removed]",
      "text/plain": [
       "<Figure size 432x288 with 1 Axes>"
      ]
     },
     "metadata": {
      "needs_background": "light"
     },
     "output_type": "display_data"
    }
   ],
   "source": [
    "X = np.array([  [ 4,  3],\n",
    "                [ 0,  1],\n",
    "                [-2,  2],\n",
    "                [ 4, -1],\n",
    "                [ 2,  0]  ])\n",
    "# print(X)\n",
    "\n",
    "import matplotlib.pyplot as plt\n",
    "plt.scatter(X[:, 0], X[:, 1])\n",
    "plt.show()"
   ]
  },
  {
   "cell_type": "code",
   "execution_count": 153,
   "metadata": {},
   "outputs": [
    {
     "data": {
      "text/plain": [
       "PCA(n_components=2)"
      ]
     },
     "execution_count": 153,
     "metadata": {},
     "output_type": "execute_result"
    }
   ],
   "source": [
    "from sklearn.decomposition import PCA\n",
    "\n",
    "pca = PCA(n_components=2)\n",
    "pca.fit(X)"
   ]
  },
  {
   "cell_type": "code",
   "execution_count": 154,
   "metadata": {},
   "outputs": [
    {
     "name": "stdout",
     "output_type": "stream",
     "text": [
      "[[-0.97640184  0.21596167]\n",
      " [ 0.21596167  0.97640184]]\n",
      "[7.02118114 2.27881886]\n"
     ]
    }
   ],
   "source": [
    "print(pca.components_)\n",
    "\n",
    "print(pca.explained_variance_)"
   ]
  },
  {
   "cell_type": "code",
   "execution_count": 155,
   "metadata": {},
   "outputs": [
    {
     "data": {
      "text/plain": [
       "[Text(0.5, 0, 'component 1'),\n",
       " Text(0, 0.5, 'component 2'),\n",
       " Text(0.5, 1.0, 'principal components'),\n",
       " (-5.0, 5.0),\n",
       " (-3.0, 3.1)]"
      ]
     },
     "execution_count": 155,
     "metadata": {},
     "output_type": "execute_result"
    },
    {
     "data": {
      "image/png": "[encoded data removed]",
      "text/plain": [
       "<Figure size 1152x432 with 2 Axes>"
      ]
     },
     "metadata": {
      "needs_background": "light"
     },
     "output_type": "display_data"
    }
   ],
   "source": [
    "\"\"\"\n",
    "The below visualization code was developed with reference to: \n",
    "https://jakevdp.github.io/PythonDataScienceHandbook/05.09-principal-component-analysis.html\n",
    "\"\"\"\n",
    "\n",
    "def draw_vector(v0, v1, ax=None):\n",
    "    ax = ax or plt.gca()\n",
    "    arrowprops=dict(arrowstyle='->',\n",
    "                    linewidth=2,\n",
    "                    shrinkA=0, shrinkB=0)\n",
    "    ax.annotate('', v1, v0, arrowprops=arrowprops)\n",
    "\n",
    "fig, ax = plt.subplots(1, 2, figsize=(16, 6))\n",
    "fig.subplots_adjust(left=0.06, right = 1, wspace=0.1)\n",
    "\n",
    "# plot data\n",
    "ax[0].scatter(X[:, 0], X[:, 1])\n",
    "for length, vector in zip(pca.explained_variance_, pca.components_):\n",
    "    v = vector * np.sqrt(length)\n",
    "    draw_vector(pca.mean_, pca.mean_ + v, ax=ax[0])\n",
    "ax[0].axis('equal')\n",
    "ax[0].set(xlabel='x', ylabel='y', title='input')\n",
    "\n",
    "# plot principal components\n",
    "X_re = pca.transform(X)\n",
    "ax[1].scatter(X_re[:, 0], X_re[:, 1])\n",
    "draw_vector([0, 0], [0, 3], ax=ax[1])\n",
    "draw_vector([0, 0], [3, 0], ax=ax[1])\n",
    "ax[1].axis('equal')\n",
    "ax[1].set(xlabel='component 1', ylabel='component 2',\n",
    "          title='principal components',\n",
    "          xlim=(-5, 5), ylim=(-3, 3.1))"
   ]
  },
  {
   "cell_type": "code",
   "execution_count": 160,
   "metadata": {},
   "outputs": [
    {
     "name": "stdout",
     "output_type": "stream",
     "text": [
      "original shape:    (5, 2)\n",
      "transformed shape: (5, 1)\n",
      "[[-1.91144107]\n",
      " [ 1.56224295]\n",
      " [ 3.7310083 ]\n",
      " [-2.77528776]\n",
      " [-0.60652241]]\n"
     ]
    }
   ],
   "source": [
    "pca = PCA(n_components=1)\n",
    "pca.fit(X)\n",
    "X_1d = pca.transform(X)\n",
    "print(\"original shape:   \", X.shape)\n",
    "print(\"transformed shape:\", X_1d.shape)\n",
    "\n",
    "print(X_1d)"
   ]
  },
  {
   "cell_type": "markdown",
   "metadata": {},
   "source": [
    "Plotting 1d projected datapoints"
   ]
  },
  {
   "cell_type": "code",
   "execution_count": 159,
   "metadata": {},
   "outputs": [
    {
     "data": {
      "image/png": "[encoded data removed]",
      "text/plain": [
       "<Figure size 432x288 with 1 Axes>"
      ]
     },
     "metadata": {
      "needs_background": "light"
     },
     "output_type": "display_data"
    }
   ],
   "source": [
    "proj_X = pca.inverse_transform(X_1d)\n",
    "\n",
    "plt.scatter(proj_X[:, 0], proj_X[:, 1], alpha=0.9)\n",
    "plt.scatter(X[:, 0], X[:, 1], alpha=0.2, c = 'b')\n",
    "plt.axis('equal');"
   ]
  },
  {
   "cell_type": "code",
   "execution_count": null,
   "metadata": {},
   "outputs": [],
   "source": []
  }
 ],
 "metadata": {
  "kernelspec": {
   "display_name": "Python 3.9.12 ('base')",
   "language": "python",
   "name": "python3"
  },
  "language_info": {
   "codemirror_mode": {
    "name": "ipython",
    "version": 3
   },
   "file_extension": ".py",
   "mimetype": "text/x-python",
   "name": "python",
   "nbconvert_exporter": "python",
   "pygments_lexer": "ipython3",
   "version": "3.9.12"
  },
  "orig_nbformat": 4,
  "vscode": {
   "interpreter": {
    "hash": "32c55e367ab3d8af1ba64fa427481ae9cf7b745f839d69512ed41a2a7e7c9de0"
   }
  }
 },
 "nbformat": 4,
 "nbformat_minor": 2
}
