{
 "cells": [
  {
   "cell_type": "markdown",
   "id": "c1a3a13e",
   "metadata": {},
   "source": [
    "# Principle Component Analysis (PCA) of Gaussian Data\n",
    "\n",
    "In this lab, we are going to generate random data $\\{ x_j \\in \\mathbb{R}^2 : 1 \\leq j \\leq n\\}$ from a bi-variate Gaussian distribution and use PCA to find a one-dimensional representation of it as the points $\\{ y_j \\in \\mathbb{R} : 1 \\leq j \\leq n\\}$."
   ]
  },
  {
   "cell_type": "code",
   "execution_count": 1,
   "id": "89c11c60",
   "metadata": {},
   "outputs": [],
   "source": [
    "import numpy as np\n",
    "import matplotlib.pyplot as plt"
   ]
  },
  {
   "cell_type": "markdown",
   "id": "c495790c",
   "metadata": {},
   "source": [
    "### The code below is provided to generate the random input data"
   ]
  },
  {
   "cell_type": "code",
   "execution_count": 2,
   "id": "faeb256b",
   "metadata": {},
   "outputs": [
    {
     "data": {
      "text/plain": [
       "(-10.0, 10.0)"
      ]
     },
     "execution_count": 2,
     "metadata": {},
     "output_type": "execute_result"
    },
    {
     "data": {
      "image/png": "[encoded data removed]",
      "text/plain": [
       "<Figure size 432x288 with 1 Axes>"
      ]
     },
     "metadata": {
      "needs_background": "light"
     },
     "output_type": "display_data"
    }
   ],
   "source": [
    "# Parameters\n",
    "n = 1000                                # number of data points\n",
    "d = 2                                   # dimension of data points\n",
    "input_mean_vector = (1, 3)              # mean vector for generating input data\n",
    "input_cov_matrix = np.array([[6, 3],\n",
    "                             [3, 3.5]]) # covariance matrix for generating input data\n",
    "\n",
    "# Generate data with each column of input_X being a sample x_j\n",
    "input_X = np.random.multivariate_normal(input_mean_vector, input_cov_matrix, size = n)\n",
    "input_X = input_X.T\n",
    "\n",
    "# Plot\n",
    "fig = plt.figure()\n",
    "plt.plot(input_X[0,:],input_X[1,:], '.', color='k')\n",
    "plt.grid()\n",
    "plt.xlim((-10, 10))\n",
    "plt.ylim((-10,10))"
   ]
  },
  {
   "cell_type": "markdown",
   "id": "ff5ce9bf",
   "metadata": {},
   "source": [
    "### Let's now implement PCA\n",
    "Note that the variable `input_X` is of dimension $d \\times n$ so the $j$-th data sample $x_j \\in \\mathbb{R}^d$ is accessed stored in the variable `input_X[:,j-1]`"
   ]
  },
  {
   "cell_type": "markdown",
   "id": "42deecff",
   "metadata": {},
   "source": [
    "1. Compute the mean vector of the data $\\mu = \\frac{1}{n} \\sum_{j = 1}^n x_j$ and subtract it from the data to compute the mean-subtracted (or centered data) $\\tilde{x}_j = x_j - \\mu$."
   ]
  },
  {
   "cell_type": "code",
   "execution_count": 4,
   "id": "94a93a40",
   "metadata": {},
   "outputs": [
    {
     "name": "stdout",
     "output_type": "stream",
     "text": [
      "[[-6.20860774 -0.87469099  2.58089908 ...  0.54013238  2.92529396\n",
      "   0.99021291]\n",
      " [-1.50678714  0.65819579  3.25199784 ...  2.66326997 -0.97516905\n",
      "   0.54772187]]\n"
     ]
    }
   ],
   "source": [
    "mu = np.mean(input_X, axis = 1)\n",
    "\n",
    "centred_X = np.zeros_like(input_X)\n",
    "for j in range(n):\n",
    "    centred_X[:, j] = input_X[:, j] - mu\n",
    "\n",
    "\n",
    "print(centred_X)"
   ]
  },
  {
   "cell_type": "markdown",
   "id": "ab0f6181",
   "metadata": {},
   "source": [
    "2. Compute the data matrix $X = \\begin{bmatrix} \\tilde{x}_1 & \\tilde{x}_2 & \\cdots & \\tilde{x}_n \\end{bmatrix}$ and the covariance matrix $C = \\frac{1}{n} XX^T$."
   ]
  },
  {
   "cell_type": "code",
   "execution_count": 5,
   "id": "ab4cd8cc",
   "metadata": {},
   "outputs": [],
   "source": [
    "X = centred_X\n",
    "\n",
    "C = 1/n * X@X.T"
   ]
  },
  {
   "cell_type": "markdown",
   "id": "51e18ff0",
   "metadata": {},
   "source": [
    "3. Compute eigenvalues and eigenvectors of the covariance matrix C"
   ]
  },
  {
   "cell_type": "code",
   "execution_count": 8,
   "id": "c49f8a74",
   "metadata": {},
   "outputs": [
    {
     "name": "stdout",
     "output_type": "stream",
     "text": [
      "[8.25404879 1.43725201]\n",
      "[[ 0.84524953 -0.53437182]\n",
      " [ 0.53437182  0.84524953]]\n"
     ]
    }
   ],
   "source": [
    "lambdaa, v = np.linalg.eig(C)\n",
    "\n",
    "print(lambdaa)\n",
    "\n",
    "print(v)"
   ]
  },
  {
   "cell_type": "markdown",
   "id": "f36dd0d2",
   "metadata": {},
   "source": [
    "4. Select the eigenvectors $u_1, u_2, \\ldots, u_k$ corresponding to the $k$ largest eigenvalues of $C$ (we only want $k = 1$ here)."
   ]
  },
  {
   "cell_type": "code",
   "execution_count": 28,
   "id": "5afbe661",
   "metadata": {},
   "outputs": [
    {
     "name": "stdout",
     "output_type": "stream",
     "text": [
      "[0.84524953 0.53437182]\n"
     ]
    }
   ],
   "source": [
    "k  = np.argmax(lambdaa) # first principal component\n",
    "u1  = v[:,k]\n",
    "\n",
    "print(u1)"
   ]
  },
  {
   "cell_type": "markdown",
   "id": "8e5138ae",
   "metadata": {},
   "source": [
    "5. Compute the lower-dimensional output via $y_j = A^T\\tilde{x}_j$ where $A = \\begin{bmatrix} u_1 & u_2 & \\cdots & u_k \\end{bmatrix}$."
   ]
  },
  {
   "cell_type": "code",
   "execution_count": 29,
   "id": "46006826",
   "metadata": {},
   "outputs": [],
   "source": [
    "y = np.zeros((n, 1))\n",
    "\n",
    "for j in range(n):\n",
    "    y[j] = u1.T @ X[:, j]\n"
   ]
  },
  {
   "cell_type": "markdown",
   "id": "21c576d4",
   "metadata": {},
   "source": [
    "6. Reconstruct the input data from the lower-dimensional output $y_j$ via $\\hat{x}_j = Ay_j + \\mu$. Plot the reconstructions and the input data on the same plot."
   ]
  },
  {
   "cell_type": "code",
   "execution_count": 30,
   "id": "fef39956",
   "metadata": {},
   "outputs": [
    {
     "data": {
      "text/plain": [
       "(-10.0, 10.0)"
      ]
     },
     "execution_count": 30,
     "metadata": {},
     "output_type": "execute_result"
    },
    {
     "data": {
      "image/png": "[encoded data removed]",
      "text/plain": [
       "<Figure size 432x288 with 1 Axes>"
      ]
     },
     "metadata": {
      "needs_background": "light"
     },
     "output_type": "display_data"
    }
   ],
   "source": [
    "hat_x = np.zeros_like(X)\n",
    "for j in range(n):\n",
    "    hat_x[:, j] = u1*y[j] + mu\n",
    "\n",
    "\n",
    "# Plot reconstuction\n",
    "fig = plt.figure()\n",
    "plt.plot(input_X[0,:],input_X[1,:], '.', color='k')\n",
    "plt.plot(hat_x[0,:],hat_x[1,:], '.', color='r')\n",
    "plt.grid()\n",
    "plt.xlim((-10, 10))\n",
    "plt.ylim((-10,10))"
   ]
  }
 ],
 "metadata": {
  "kernelspec": {
   "display_name": "Python 3.9.12 ('base')",
   "language": "python",
   "name": "python3"
  },
  "language_info": {
   "codemirror_mode": {
    "name": "ipython",
    "version": 3
   },
   "file_extension": ".py",
   "mimetype": "text/x-python",
   "name": "python",
   "nbconvert_exporter": "python",
   "pygments_lexer": "ipython3",
   "version": "3.9.12"
  },
  "vscode": {
   "interpreter": {
    "hash": "32c55e367ab3d8af1ba64fa427481ae9cf7b745f839d69512ed41a2a7e7c9de0"
   }
  }
 },
 "nbformat": 4,
 "nbformat_minor": 5
}
