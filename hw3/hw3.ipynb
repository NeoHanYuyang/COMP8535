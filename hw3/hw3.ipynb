{
 "cells": [
  {
   "cell_type": "code",
   "execution_count": 2,
   "metadata": {},
   "outputs": [],
   "source": [
    "import numpy as np\n",
    "\n",
    "\n",
    "one_n = np.array([[0.25, 0.25, 0.25, 0.25],\n",
    "                  [0.25, 0.25, 0.25, 0.25],\n",
    "                  [0.25, 0.25, 0.25, 0.25],\n",
    "                  [0.25, 0.25, 0.25, 0.25]\n",
    "])\n",
    "\n",
    "k = np.array([\n",
    "                [1, 0, 1, 0],\n",
    "                [0, 1, 0, 1],\n",
    "                [1, 0, 1, 0],\n",
    "                [0, 1, 0, 1]\n",
    "])"
   ]
  },
  {
   "cell_type": "code",
   "execution_count": 3,
   "metadata": {},
   "outputs": [
    {
     "name": "stdout",
     "output_type": "stream",
     "text": [
      "[[ 0.5 -0.5  0.5 -0.5]\n",
      " [-0.5  0.5 -0.5  0.5]\n",
      " [ 0.5 -0.5  0.5 -0.5]\n",
      " [-0.5  0.5 -0.5  0.5]]\n"
     ]
    }
   ],
   "source": [
    "k_telta = k - one_n@k - k@one_n + one_n@k@one_n\n",
    "\n",
    "print(k_telta)"
   ]
  },
  {
   "cell_type": "markdown",
   "metadata": {},
   "source": [
    "### Q3"
   ]
  },
  {
   "cell_type": "code",
   "execution_count": 6,
   "metadata": {},
   "outputs": [
    {
     "name": "stdout",
     "output_type": "stream",
     "text": [
      "[[ 1  0 -1  0]\n",
      " [ 0  1  0 -1]\n",
      " [-1  0  1  0]\n",
      " [ 0 -1  0  1]]\n",
      "[[ 1.  0. -1.  0.]\n",
      " [ 0.  1.  0. -1.]\n",
      " [-1.  0.  1.  0.]\n",
      " [ 0. -1.  0.  1.]]\n"
     ]
    }
   ],
   "source": [
    "H = np.array([  [0.75, -0.25, -0.25, -0.25],\n",
    "                [-0.25, 0.75, -0.25, -0.25],\n",
    "                [-0.25, -0.25, 0.75, -0.25],\n",
    "                [-0.25, -0.25, -0.25, 0.75]\n",
    "])\n",
    "\n",
    "D = np.array([\n",
    "            [0, 2, 4, 2],\n",
    "            [2, 0, 2, 4],\n",
    "            [4, 2, 0, 2],\n",
    "            [2, 4, 2, 0]\n",
    "])\n",
    "\n",
    "X = np.array([\n",
    "    [1, 0],\n",
    "    [0, 1],\n",
    "    [-1, 0],\n",
    "    [0, -1]\n",
    "])\n",
    "\n",
    "b = X@X.T\n",
    "print(b)\n",
    "\n",
    "B = -1/2 * H @ D @ H\n",
    "\n",
    "print(B)"
   ]
  },
  {
   "cell_type": "code",
   "execution_count": 7,
   "metadata": {},
   "outputs": [
    {
     "name": "stdout",
     "output_type": "stream",
     "text": [
      "[2. 0. 2. 0.]\n",
      "[[ 0.70710678  0.70710678  0.          0.        ]\n",
      " [ 0.          0.          0.70710678  0.70710678]\n",
      " [-0.70710678  0.70710678  0.          0.        ]\n",
      " [ 0.          0.         -0.70710678  0.70710678]]\n"
     ]
    }
   ],
   "source": [
    "from numpy import linalg as LA\n",
    "\n",
    "w, v = LA.eig(B)\n",
    "\n",
    "print(w)\n",
    "\n",
    "print(v)"
   ]
  },
  {
   "cell_type": "code",
   "execution_count": null,
   "metadata": {},
   "outputs": [],
   "source": []
  }
 ],
 "metadata": {
  "kernelspec": {
   "display_name": "Python 3.9.12 ('base')",
   "language": "python",
   "name": "python3"
  },
  "language_info": {
   "codemirror_mode": {
    "name": "ipython",
    "version": 3
   },
   "file_extension": ".py",
   "mimetype": "text/x-python",
   "name": "python",
   "nbconvert_exporter": "python",
   "pygments_lexer": "ipython3",
   "version": "3.9.12"
  },
  "orig_nbformat": 4,
  "vscode": {
   "interpreter": {
    "hash": "32c55e367ab3d8af1ba64fa427481ae9cf7b745f839d69512ed41a2a7e7c9de0"
   }
  }
 },
 "nbformat": 4,
 "nbformat_minor": 2
}
