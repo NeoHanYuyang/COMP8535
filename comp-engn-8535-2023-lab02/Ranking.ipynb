{
 "cells": [
  {
   "cell_type": "markdown",
   "id": "0433c817",
   "metadata": {},
   "source": [
    "# Ranking\n",
    "\n",
    "Consider the network of 6 webpages shown below.\n",
    "![title](imgs/ranking_network.jpg)\n",
    "\n",
    "The arrows in this picture show the direction of the links between the pages. For example, Page 1 links to Pages 2 and 5 because there are arrows from Page 1 to both Page 2 and Page 5. We are going to implement the (full) PageRank algorithm for this network."
   ]
  },
  {
   "cell_type": "markdown",
   "id": "6e72f05f",
   "metadata": {},
   "source": [
    "1) Construct the transition matrix $P$ for a user that simply keeps clicking successive links at random in this network (i.e., the random surfer model)."
   ]
  },
  {
   "cell_type": "code",
   "execution_count": 1,
   "id": "4c090f07",
   "metadata": {},
   "outputs": [],
   "source": [
    "import numpy as np\n",
    "\n",
    "P = np.array([[0, 0.5, 0, 0, 0.5, 0],\n",
    "              [0.5, 0, 0.5, 0, 0, 0],\n",
    "              [0, 0.25, 0, 0.25, 0.25, 0.25],\n",
    "              [0, 1/3, 1/3, 0, 0, 1/3],\n",
    "              [0, 0, 0, 0, 0, 0],\n",
    "              [0, 0, 0.5, 0, 0.5, 0]\n",
    "])"
   ]
  },
  {
   "cell_type": "markdown",
   "id": "df6fa71b",
   "metadata": {},
   "source": [
    "2) Construct the transition matrix $S$ for a user that will also jump to random pages if there are no further links"
   ]
  },
  {
   "cell_type": "code",
   "execution_count": 5,
   "id": "7341af06",
   "metadata": {},
   "outputs": [
    {
     "name": "stdout",
     "output_type": "stream",
     "text": [
      "[[0.         0.5        0.         0.         0.5        0.        ]\n",
      " [0.5        0.         0.5        0.         0.         0.        ]\n",
      " [0.         0.25       0.         0.25       0.25       0.25      ]\n",
      " [0.         0.33333333 0.33333333 0.         0.         0.33333333]\n",
      " [0.16666667 0.16666667 0.16666667 0.16666667 0.16666667 0.16666667]\n",
      " [0.         0.         0.5        0.         0.5        0.        ]]\n"
     ]
    }
   ],
   "source": [
    "S = np.zeros_like(P)\n",
    "\n",
    "N = [2, 2, 4, 3, 0, 2]\n",
    "\n",
    "row, col = P.shape\n",
    "\n",
    "for i in range(row):\n",
    "    for j in range(col):\n",
    "        if N[i] == 0:\n",
    "            S[i][j] = P[i][j] + 1/6\n",
    "        elif N[i] > 0:\n",
    "            S[i][j] = P[i][j]\n",
    "\n",
    "print(S)\n"
   ]
  },
  {
   "cell_type": "markdown",
   "id": "9f439f14",
   "metadata": {},
   "source": [
    "3) Construct the Google matrix $G$ for a user that will also periodically get bored with probability $1-\\alpha = 0.15$ so $\\alpha = 0.85$."
   ]
  },
  {
   "cell_type": "code",
   "execution_count": 6,
   "id": "84d11994",
   "metadata": {},
   "outputs": [
    {
     "name": "stdout",
     "output_type": "stream",
     "text": [
      "[[0.025      0.45       0.025      0.025      0.45       0.025     ]\n",
      " [0.45       0.025      0.45       0.025      0.025      0.025     ]\n",
      " [0.025      0.2375     0.025      0.2375     0.2375     0.2375    ]\n",
      " [0.025      0.30833333 0.30833333 0.025      0.025      0.30833333]\n",
      " [0.16666667 0.16666667 0.16666667 0.16666667 0.16666667 0.16666667]\n",
      " [0.025      0.025      0.45       0.025      0.45       0.025     ]]\n"
     ]
    }
   ],
   "source": [
    "alpha = 0.85\n",
    "G = alpha * S + (1-alpha)/6\n",
    "\n",
    "print(G)"
   ]
  },
  {
   "cell_type": "markdown",
   "id": "34542420",
   "metadata": {},
   "source": [
    "4) Use the power method starting from $\\pi_0 = \\begin{bmatrix} 1/6 \\\\ 1/6 \\\\ 1/6 \\\\ 1/6 \\\\ 1/6\\\\ 1/6 \\end{bmatrix}$ to compute an approximation of $\\pi_\\infty$. Stop when $||\\pi_k - \\pi_{k-1}||_2 < 1 \\times 10^{-8}$."
   ]
  },
  {
   "cell_type": "code",
   "execution_count": 18,
   "id": "5bdca680",
   "metadata": {},
   "outputs": [
    {
     "name": "stdout",
     "output_type": "stream",
     "text": [
      "[[0.13648411]\n",
      " [0.18999778]\n",
      " [0.22172183]\n",
      " [0.10285094]\n",
      " [0.2169533 ]\n",
      " [0.13199204]]\n"
     ]
    }
   ],
   "source": [
    "def power(pi_kminus1):\n",
    "    pi_k = G.T @ pi_kminus1\n",
    "    return pi_k\n",
    "\n",
    "# Code here\n",
    "# initializing variables\n",
    "pi_kminus1 = np.array([\n",
    "                [1/6], [1/6], [1/6], [1/6], [1/6], [1/6]])\n",
    "# pi_kminus1 = pi_kminus1.T\n",
    "# print(pi_kminus1)\n",
    "pi_k = power(pi_kminus1)\n",
    "\n",
    "\n",
    "\n",
    "while np.linalg.norm(pi_k - pi_kminus1) > 1e-8:\n",
    "    pi_kminus1 = pi_k\n",
    "    pi_k = power(pi_kminus1)\n",
    "\n",
    "\n",
    "print(pi_k)"
   ]
  },
  {
   "cell_type": "markdown",
   "id": "3343b151",
   "metadata": {},
   "source": [
    "5) Print the ranking of the pages from most important to least important."
   ]
  },
  {
   "cell_type": "code",
   "execution_count": 19,
   "id": "d1b7d33c",
   "metadata": {},
   "outputs": [
    {
     "name": "stdout",
     "output_type": "stream",
     "text": [
      "0.10285093872104113\n"
     ]
    }
   ],
   "source": [
    "print(pi_k.min())"
   ]
  }
 ],
 "metadata": {
  "kernelspec": {
   "display_name": "Python 3.9.12 ('base')",
   "language": "python",
   "name": "python3"
  },
  "language_info": {
   "codemirror_mode": {
    "name": "ipython",
    "version": 3
   },
   "file_extension": ".py",
   "mimetype": "text/x-python",
   "name": "python",
   "nbconvert_exporter": "python",
   "pygments_lexer": "ipython3",
   "version": "3.9.12"
  },
  "vscode": {
   "interpreter": {
    "hash": "32c55e367ab3d8af1ba64fa427481ae9cf7b745f839d69512ed41a2a7e7c9de0"
   }
  }
 },
 "nbformat": 4,
 "nbformat_minor": 5
}
