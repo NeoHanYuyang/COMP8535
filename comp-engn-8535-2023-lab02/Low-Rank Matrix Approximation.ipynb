{
 "cells": [
  {
   "cell_type": "markdown",
   "id": "cea4b70a",
   "metadata": {},
   "source": [
    "# Low-Rank Matrix Approximation via SVD\n",
    "\n",
    "Given a real-valued matrix $A\\in R^{n \\times m}$ and an integer $k\\in[1, min(m,n)]$, write and test a function `low_rank_approx(A, k)` to compute a rank-$k$ approximation $X$ of $A$ that minimises the Frobenius norm. That is, find $X$ that solves the optimisation problem:\n",
    "\\begin{equation*}\n",
    "    X = \\underset{\\{\\bar{X} \\in R^{n \\times m} : rank(X) = k\\}} {\\mathrm{argmin}} \\| A - \\bar{X} \\|_F\n",
    "\\end{equation*}\n",
    "\n",
    "Hint: Use the SVD and [Eckart–Young–Mirsky theorem](https://en.wikipedia.org/wiki/Low-rank_approximation#Proof_of_Eckart%E2%80%93Young%E2%80%93Mirsky_theorem_(for_Frobenius_norm))"
   ]
  },
  {
   "cell_type": "markdown",
   "id": "2b5c7764",
   "metadata": {},
   "source": [
    "#### Hint"
   ]
  },
  {
   "cell_type": "code",
   "execution_count": 16,
   "id": "844649d7",
   "metadata": {},
   "outputs": [
    {
     "data": {
      "text/plain": [
       "\"\\nComputes an r-rank approximation of a matrix\\ngiven the component u, s, and v of it's SVD\\nRequires: numpy\\n\""
      ]
     },
     "execution_count": 16,
     "metadata": {},
     "output_type": "execute_result"
    }
   ],
   "source": [
    "\"\"\"\n",
    "Computes an r-rank approximation of a matrix\n",
    "given the component u, s, and v of it's SVD\n",
    "Requires: numpy\n",
    "\"\"\"\n",
    "# if not SVD:\n",
    "#     SVD = np.linalg.svd(A, full_matrices=False)\n",
    "# u, s, v = SVD\n",
    "# Ar = np.zeros((len(u), len(v)))\n",
    "# for i in xrange(r):\n",
    "#     Ar += s[i] * np.outer(u.T[i], v[i])\n",
    "# return Ar"
   ]
  },
  {
   "cell_type": "markdown",
   "id": "06c3aab1",
   "metadata": {},
   "source": [
    "## Write the function in the cell below:"
   ]
  },
  {
   "cell_type": "code",
   "execution_count": 17,
   "id": "d92a4bb7",
   "metadata": {},
   "outputs": [
    {
     "data": {
      "text/plain": [
       "array([[1., 0., 0.],\n",
       "       [0., 1., 0.],\n",
       "       [0., 0., 0.]])"
      ]
     },
     "execution_count": 17,
     "metadata": {},
     "output_type": "execute_result"
    }
   ],
   "source": [
    "import numpy as np\n",
    "\n",
    "I3 = np.eye(3)\n",
    "\n",
    "def low_rank_approx(A, k):\n",
    "    n, m = A.shape\n",
    "    # k = np.min(1, np.min(n, m))\n",
    "\n",
    "    # SVD decomposition\n",
    "    U, S, vh = np.linalg.svd(A, full_matrices=False)\n",
    "\n",
    "    \"\"\"\n",
    "    Solution1: Reconstruct X directly using SVD\n",
    "    \"\"\"\n",
    "    # U_k = U[:,:k]\n",
    "    # S_diag = np.diag(S[:k])\n",
    "    # vh_k = vh[:k]\n",
    "\n",
    "    # X = U_k @ S_diag @ vh_k\n",
    "\n",
    "    '''\n",
    "    Solution2: Using Eckart-Young-Mirsky Theorem\n",
    "    '''\n",
    "    # sigma_i = sum(S[:k])\n",
    "    X = np.zeros((U.shape[0], vh.shape[0]))\n",
    "    # print(X.shape)\n",
    "\n",
    "    # X = U[k] @ np.diag(S)[k] @ vh.T[k]\n",
    "    for i in range(k):\n",
    "        X += S[i] * np.outer(U[i], vh[i]) # outer product give the matrix\n",
    "\n",
    "    return X\n",
    "\n",
    "low_rank_approx(I3, 2)\n"
   ]
  },
  {
   "cell_type": "markdown",
   "id": "9d5cf8ad",
   "metadata": {},
   "source": [
    " ## Test the function in the cell below:\n",
    "An example test is provided below for your convenience. Try constructing another test or two."
   ]
  },
  {
   "cell_type": "code",
   "execution_count": 18,
   "id": "cf581a00",
   "metadata": {},
   "outputs": [],
   "source": [
    "# Tolerance\n",
    "eps = 0.0001\n",
    "\n",
    "# Test the identity matrix with rank 2\n",
    "I3 = np.eye(3)\n",
    "r2_I3 = low_rank_approx(I3, 2)\n",
    "assert np.linalg.matrix_rank(r2_I3) <= 2 and np.linalg.norm(I3-r2_I3, ord='fro') <= 1 + eps"
   ]
  }
 ],
 "metadata": {
  "kernelspec": {
   "display_name": "Python 3.9.12 ('base')",
   "language": "python",
   "name": "python3"
  },
  "language_info": {
   "codemirror_mode": {
    "name": "ipython",
    "version": 3
   },
   "file_extension": ".py",
   "mimetype": "text/x-python",
   "name": "python",
   "nbconvert_exporter": "python",
   "pygments_lexer": "ipython3",
   "version": "3.9.12"
  },
  "vscode": {
   "interpreter": {
    "hash": "32c55e367ab3d8af1ba64fa427481ae9cf7b745f839d69512ed41a2a7e7c9de0"
   }
  }
 },
 "nbformat": 4,
 "nbformat_minor": 5
}
