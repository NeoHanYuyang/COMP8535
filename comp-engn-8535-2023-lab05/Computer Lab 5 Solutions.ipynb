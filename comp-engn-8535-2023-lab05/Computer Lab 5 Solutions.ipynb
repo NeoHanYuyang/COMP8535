{
 "cells": [
  {
   "attachments": {},
   "cell_type": "markdown",
   "id": "b6db043d",
   "metadata": {},
   "source": [
    "# Compressive Sensing"
   ]
  },
  {
   "attachments": {},
   "cell_type": "markdown",
   "id": "dc0b7451",
   "metadata": {},
   "source": [
    "Given an $M$-dimensional vector $y$ and an $M$-by-$N$ sensing matrix $\\Phi$ ($M<N$), your task is to find an as-sparse-as-possible vector $x$ that satisfies $y=\\Phi x$ as well as possible, *i.e.* an $x$ that contains minimal number of non-zero elements under $y\\approx \\Phi x$.\n",
    "\n",
    "One could argue the above problem is not well-defined from a mathematical point of view -- there is always a trade-off between how sparse $x$ is and how close $\\Phi x$ and $y$ are. So let us consider two approaches for solving this problem."
   ]
  },
  {
   "cell_type": "code",
   "execution_count": 33,
   "id": "89067874",
   "metadata": {},
   "outputs": [],
   "source": [
    "import numpy as np\n",
    "import numpy.linalg\n",
    "import scipy.linalg\n",
    "import scipy.optimize\n",
    "import scipy\n",
    "import time\n",
    "import matplotlib.pyplot as plt"
   ]
  },
  {
   "cell_type": "code",
   "execution_count": 34,
   "id": "42b9a4ae",
   "metadata": {},
   "outputs": [],
   "source": [
    "# Helper Functions\n",
    "def sparsity(x, eps):\n",
    "    '''\n",
    "    returns no. nonzeros in x\n",
    "    '''\n",
    "    return (np.abs(x) > eps).sum()"
   ]
  },
  {
   "attachments": {},
   "cell_type": "markdown",
   "id": "5fc7f403",
   "metadata": {},
   "source": [
    "## Hard Sparsity\n",
    "A vector $x \\in \\mathbb{R}^N$ is called $K$-sparse if it has $K$ nonzero elements. Given $K$, write a function that returns a $K$-sparse vector $\\hat{x} \\in \\mathbb{R}^N$ that minimises the distance $\\|\\Phi x - y\\|_2$ over $x \\in \\mathbb{R}^N$ subject to the constraint that $\\|x\\|_0 \\leq K$. The problem is NP-hard but the solution can be approximated using orthogonal matching pursuit (OMP).\n",
    "\n",
    "*i.e.*, solve the optimisation problem\n",
    "$$\n",
    "\\arg_x\\min \\|\\Phi x-y\\|_2\\,\\text{s.t.}\\;\\|x\\|_0\\leq s\n",
    "$$\n",
    "\n",
    "Hint: Use `np.linalg.pinv` for computing pseudoinverses. "
   ]
  },
  {
   "cell_type": "code",
   "execution_count": 35,
   "id": "15677c26",
   "metadata": {},
   "outputs": [],
   "source": [
    "def hard_sparsity_omp(Phi, y, K):\n",
    "    '''\n",
    "    inputs: \n",
    "      - Phi: M-by-N matrix\n",
    "      - y: M-dimensional vector\n",
    "      - K: integer in range (0,M]\n",
    "    returns:\n",
    "      xHat: N-dimensional vector that minimises ||y- Phi x||_2 subject to K-sparsity\n",
    "    '''\n",
    "    \n",
    "    xHat = np.zeros((N,1))\n",
    "    I = []\n",
    "    for k in range(K):\n",
    "        # Element Selection\n",
    "        r = y - Phi@xHat\n",
    "        j_star = 0\n",
    "        for j in range(N):\n",
    "            if np.abs(Phi[:,j].T@r) > np.abs(Phi[:,j_star].T@r):\n",
    "                j_star = j\n",
    "        I = I + [j_star]\n",
    "\n",
    "        # Coefficient Update\n",
    "        xHat_I = np.linalg.pinv(Phi[:,I])@y\n",
    "        xHat[I] = np.reshape(xHat_I, (len(I),1))\n",
    "    return xHat"
   ]
  },
  {
   "attachments": {},
   "cell_type": "markdown",
   "id": "161061e7",
   "metadata": {},
   "source": [
    "### Generate and Test Measurements\n",
    "Run the following cells to generate a sparse signal, measurements, and test OMP."
   ]
  },
  {
   "cell_type": "code",
   "execution_count": 36,
   "id": "7e889e9b",
   "metadata": {},
   "outputs": [],
   "source": [
    "M, N = 30, 100 # measurement dimension and signal\n",
    "K = 3 # at most K entries of X are non-zero\n",
    "\n",
    "np.random.seed(int(time.time()))\n",
    "\n",
    "x = np.zeros((N,1))\n",
    "x[np.random.choice(N,K),0] = np.random.randn(K) # allow at most K non-zero elements\n",
    "Phi = np.random.randn(M,N)\n",
    "Phi = Phi / np.linalg.norm(Phi, axis=-1, keepdims=True)\n",
    "Phi = scipy.linalg.orth(Phi.T).T # let's make rows orthonormal to ease problem, you may also comment this line\n",
    "y = Phi @ x"
   ]
  },
  {
   "cell_type": "code",
   "execution_count": 37,
   "id": "6c99f691",
   "metadata": {},
   "outputs": [
    {
     "name": "stdout",
     "output_type": "stream",
     "text": [
      "||y- Phi x||_2 = 1.2014560043465535e-15. Took 0.009914159774780273 seconds.\n",
      "True Signal = (transposed) =  [[ 0.          0.         -0.27732851  0.          0.          0.\n",
      "   0.          0.          0.          0.          1.53692837  0.\n",
      "   0.          0.          0.          0.          0.          0.\n",
      "   0.          0.          0.          0.          0.          0.\n",
      "   0.          0.          0.          0.          0.          0.\n",
      "   0.          0.          0.          0.          0.          0.\n",
      "   0.          0.          0.          0.          0.          0.\n",
      "   0.          0.          0.          0.          0.          0.\n",
      "   0.          0.          0.          0.          0.          0.\n",
      "   0.          0.          0.          0.          0.          0.\n",
      "   0.          0.          0.          0.         -0.825823    0.\n",
      "   0.          0.          0.          0.          0.          0.\n",
      "   0.          0.          0.          0.          0.          0.\n",
      "   0.          0.          0.          0.          0.          0.\n",
      "   0.          0.          0.          0.          0.          0.\n",
      "   0.          0.          0.          0.          0.          0.\n",
      "   0.          0.          0.          0.        ]]\n",
      "Estimated Signal (transposed) =  [[ 0.          0.         -0.27732851  0.          0.          0.\n",
      "   0.          0.          0.          0.          1.53692837  0.\n",
      "   0.          0.          0.          0.          0.          0.\n",
      "   0.          0.          0.          0.          0.          0.\n",
      "   0.          0.          0.          0.          0.          0.\n",
      "   0.          0.          0.          0.          0.          0.\n",
      "   0.          0.          0.          0.          0.          0.\n",
      "   0.          0.          0.          0.          0.          0.\n",
      "   0.          0.          0.          0.          0.          0.\n",
      "   0.          0.          0.          0.          0.          0.\n",
      "   0.          0.          0.          0.         -0.825823    0.\n",
      "   0.          0.          0.          0.          0.          0.\n",
      "   0.          0.          0.          0.          0.          0.\n",
      "   0.          0.          0.          0.          0.          0.\n",
      "   0.          0.          0.          0.          0.          0.\n",
      "   0.          0.          0.          0.          0.          0.\n",
      "   0.          0.          0.          0.        ]]\n"
     ]
    }
   ],
   "source": [
    "# test OMP\n",
    "time_start = time.time()\n",
    "xHat_omp = hard_sparsity_omp(Phi, y, K)\n",
    "time_end = time.time()\n",
    "\n",
    "assert sparsity(xHat_omp, 1e-4) <= K\n",
    "\n",
    "# should only take a few seconds at most\n",
    "print(f'||y- Phi x||_2 = {np.linalg.norm(y-Phi@xHat_omp)}. Took {time_end-time_start} seconds.')\n",
    "print('True Signal = (transposed) = ', x.T)\n",
    "print('Estimated Signal (transposed) = ', xHat_omp.T)"
   ]
  },
  {
   "attachments": {},
   "cell_type": "markdown",
   "id": "0af3095a",
   "metadata": {},
   "source": [
    "## Hard Equality\n",
    "Now consider the other extreme where the equality $y = \\Phi x$ must hold. Write a function that returns a vector $\\hat{x}\\in R^N$ that strictly satisfies $\\Phi \\hat{x} = y$ but has as few nonzero elements as possible.\n",
    "*i.e.*, that solves the optimisation problem\n",
    "$$\n",
    "\\arg_x\\min \\|x\\|_0\\,\\text{s.t.}\\; y = \\Phi x\n",
    "$$\n",
    "\n",
    "Again this problem is NP-hard, however an approximated solution can be found if we replace the L0 norm with L1 norm, in which case the problem becomes convex can be globally minimised by any standard linear programming solver.\n",
    "\n",
    "*i.e.*, implement the function to actually solve the approximated optimisation problem\n",
    "$$\n",
    "\\arg_x\\min \\|x\\|_1\\,\\text{s.t.}\\; y = \\Phi x\n",
    "$$\n",
    "\n",
    "Hint: \n",
    "* Use scipy to solve the linear program https://docs.scipy.org/doc/scipy/reference/generated/scipy.optimize.linprog.html"
   ]
  },
  {
   "cell_type": "code",
   "execution_count": 68,
   "id": "a3f749e5",
   "metadata": {},
   "outputs": [],
   "source": [
    "def hard_equality_lp(Phi, y):\n",
    "    '''\n",
    "    inputs: \n",
    "      - Phi: M-by-N matrix\n",
    "      - y: M-dimensional vector\n",
    "    returns:\n",
    "      x: N-dimensional vector that is as sparse as possible subject to y = Phi x\n",
    "         sparsity is approximated by minimising L1 norm ||x||_1 instead\n",
    "    '''\n",
    "    \n",
    "    # we have 2*N optimisation variables in the LP - N elements of x and N elements of z\n",
    "    \n",
    "    # Define the objective function values\n",
    "    c_x = np.zeros(N) # coefficients of x components in objective function\n",
    "    c_z = np.ones(N) # coefficients of z components in objective function\n",
    "    c = np.concatenate([c_x, c_z]) # coefficients of all variables in objective function\n",
    "    \n",
    "    # define the (equality) measurement constraints\n",
    "    b_eq = y\n",
    "    print(b_eq.shape)\n",
    "    A_eq = np.hstack((Phi, np.zeros((M,N))))\n",
    "    print(A_eq.shape)\n",
    "    \n",
    "    # define the inequality constraints\n",
    "    b_ineq = np.zeros(2*N)\n",
    "    A_ineq = np.vstack((np.hstack((np.eye(N), -np.eye(N))), np.hstack((-np.eye(N), -np.eye(N)))));\n",
    "\n",
    "    # solve the LP\n",
    "    res = scipy.optimize.linprog(c, A_ineq, b_ineq, A_eq, b_eq)\n",
    "    xHat = np.reshape(res.x[0:N],(N,1))\n",
    "    return xHat"
   ]
  },
  {
   "attachments": {},
   "cell_type": "markdown",
   "id": "95bcfa1a",
   "metadata": {},
   "source": [
    "### Generate and Test Measurements\n",
    "Run the following cells to generate a sparse signal, measurements, and test the LP."
   ]
  },
  {
   "cell_type": "code",
   "execution_count": 69,
   "id": "db29b8b3",
   "metadata": {},
   "outputs": [],
   "source": [
    "M, N = 30, 100 # measurement dimension and signal\n",
    "K = 3 # at most K entries of X are non-zero\n",
    "\n",
    "np.random.seed(int(time.time()))\n",
    "\n",
    "x = np.zeros((N,1))\n",
    "x[np.random.choice(N,K),0] = np.random.randn(K) # allow at most K non-zero elements\n",
    "Phi = np.random.randn(M,N)\n",
    "Phi = Phi / np.linalg.norm(Phi, axis=-1, keepdims=True)\n",
    "Phi = scipy.linalg.orth(Phi.T).T # let's make rows orthonormal to ease problem, you may also comment this line\n",
    "y = Phi @ x"
   ]
  },
  {
   "cell_type": "code",
   "execution_count": 72,
   "id": "c96da150",
   "metadata": {},
   "outputs": [
    {
     "name": "stdout",
     "output_type": "stream",
     "text": [
      "(30, 1)\n",
      "(30, 200)\n",
      "x is 3-sparse. Took 0.05440521240234375 seconds.\n",
      "True Signal = (transposed) =  [[ 0.          0.          0.          0.          0.          0.\n",
      "   0.          0.          0.          0.          0.          0.\n",
      "   0.          0.          0.          0.          0.          0.\n",
      "   0.          0.          0.          0.          0.          0.\n",
      "   0.06523885  0.          0.          0.          0.          0.\n",
      "   0.          0.          0.          0.          0.          0.0119153\n",
      "   0.          0.          0.          0.          0.          0.\n",
      "   0.          0.          0.          0.          0.          0.\n",
      "   0.          0.          0.          0.          0.          0.\n",
      "   0.          0.          0.          0.          0.          0.\n",
      "   0.          0.          0.          0.          0.          0.\n",
      "   0.          0.          0.          0.          0.          0.\n",
      "   0.          0.          0.          0.          0.          0.\n",
      "   0.          0.          0.          0.          0.         -0.15476657\n",
      "   0.          0.          0.          0.          0.          0.\n",
      "   0.          0.          0.          0.          0.          0.\n",
      "   0.          0.          0.          0.        ]]\n",
      "Estimated Signal (transposed) =  [[3.83722646e-14 2.30124551e-14 1.25820816e-14 1.25753608e-14\n",
      "  4.93719352e-02 2.58585549e-14 1.92255570e-13 1.30387430e-14\n",
      "  1.05315357e-14 4.40843558e-14 8.71161968e-15 5.98036623e-14\n",
      "  1.19268867e-02 1.55546446e-02 8.61130201e-02 3.14473598e-13\n",
      "  1.59570097e-02 2.31754119e-14 3.94870736e-14 1.33571861e-14\n",
      "  1.50242848e-13 1.79102710e-13 5.49549884e-14 2.23547162e-13\n",
      "  6.21190879e-02 5.93574806e-14 2.03840592e-14 3.86214388e-02\n",
      "  4.34416012e-14 1.52014989e-02 4.63694052e-14 1.73821531e-02\n",
      "  5.76379365e-14 1.14301738e-14 9.64555111e-15 9.70967750e-15\n",
      "  1.54994657e-14 4.14443877e-02 9.67107385e-14 1.74674215e-02\n",
      "  7.86545508e-14 3.98352452e-14 5.40218741e-14 1.69331858e-02\n",
      "  1.01529564e-14 9.24932586e-15 3.20769061e-14 2.02932259e-02\n",
      "  6.09525630e-13 1.44864455e-14 8.28405984e-02 1.23199670e-14\n",
      "  7.93157577e-14 2.26767363e-02 1.17832666e-14 1.02960703e-14\n",
      "  9.41270771e-14 3.73638986e-03 1.34373216e-14 4.95291340e-14\n",
      "  1.31830743e-14 1.67424064e-02 4.92340255e-14 4.21130184e-03\n",
      "  4.97210338e-14 2.56440978e-14 2.54848841e-02 2.23531063e-02\n",
      "  3.97032758e-02 3.41581372e-02 1.71000158e-14 7.70261486e-03\n",
      "  3.61773134e-14 9.35238296e-15 1.22317551e-14 9.70958162e-15\n",
      "  5.54591404e-14 1.35045070e-14 9.51833641e-15 1.78677526e-02\n",
      "  1.45240927e-14 1.95115423e-13 1.52664725e-14 2.38173091e-15\n",
      "  1.48590093e-14 3.01870473e-02 3.10774631e-14 5.03130193e-14\n",
      "  2.32087417e-14 5.84193165e-03 5.92881551e-02 3.66747642e-03\n",
      "  2.90288511e-14 2.33941024e-13 1.23436418e-14 5.76392241e-02\n",
      "  6.96174025e-14 1.33979517e-14 4.32221912e-14 4.17188398e-02]]\n"
     ]
    }
   ],
   "source": [
    "# test LP\n",
    "time_start = time.time()\n",
    "xHat_lp = hard_equality_lp(Phi, y)\n",
    "time_end = time.time()\n",
    "\n",
    "assert np.abs(Phi@xHat_lp-y).max() <= 1e-4\n",
    "\n",
    "# should only take a few seconds at most\n",
    "print(f'x is {sparsity(x, 1e-4)}-sparse. Took {time_end-time_start} seconds.')\n",
    "print('True Signal = (transposed) = ', x.T)\n",
    "print('Estimated Signal (transposed) = ', xHat_lp.T)"
   ]
  },
  {
   "cell_type": "code",
   "execution_count": null,
   "id": "e65505aa",
   "metadata": {},
   "outputs": [],
   "source": []
  },
  {
   "cell_type": "code",
   "execution_count": null,
   "id": "038d3368",
   "metadata": {},
   "outputs": [],
   "source": []
  }
 ],
 "metadata": {
  "kernelspec": {
   "display_name": "Python 3",
   "language": "python",
   "name": "python3"
  },
  "language_info": {
   "codemirror_mode": {
    "name": "ipython",
    "version": 3
   },
   "file_extension": ".py",
   "mimetype": "text/x-python",
   "name": "python",
   "nbconvert_exporter": "python",
   "pygments_lexer": "ipython3",
   "version": "3.8.8"
  }
 },
 "nbformat": 4,
 "nbformat_minor": 5
}
